{
 "cells": [
  {
   "cell_type": "code",
   "execution_count": null,
   "id": "initial_id",
   "metadata": {},
   "outputs": [],
   "source": [
    "import geopandas as gpd"
   ]
  },
  {
   "cell_type": "code",
   "execution_count": null,
   "id": "823e688251595202",
   "metadata": {},
   "outputs": [],
   "source": [
    "# province\n",
    "df = gpd.read_parquet(\"../data/output/01_province.parquet\")\n",
    "df[\"geometry\"] = df[\"geometry\"].simplify(0.005)\n",
    "\n",
    "!mkdir -p ../data/output_simplified\n",
    "df.to_file(\n",
    "    filename=\"../data/output_simplified/thailand-ADM1-province.geo.json\",\n",
    "    drive=\"GeoJSON\",\n",
    ")"
   ]
  },
  {
   "cell_type": "code",
   "execution_count": null,
   "id": "38f0881f7633fe48",
   "metadata": {},
   "outputs": [],
   "source": [
    "# district\n",
    "df = gpd.read_parquet(\"../data/output/02_district.parquet\")\n",
    "df[\"geometry\"] = df[\"geometry\"].simplify(0.005)\n",
    "\n",
    "df.to_file(\n",
    "    filename=\"../data/output_simplified/thailand-ADM2-district.geo.json\",\n",
    "    drive=\"GeoJSON\",\n",
    ")"
   ]
  },
  {
   "cell_type": "code",
   "execution_count": null,
   "id": "2b0785c7c01187a4",
   "metadata": {},
   "outputs": [],
   "source": [
    "# # subdistrict\n",
    "# df = gpd.read_parquet(\"../data/output/03_subdistrict.parquet\")\n",
    "# df['geometry'] = df['geometry'].simplify(0.1)\n",
    "#\n",
    "# df.to_file(filename=\"../data/output_simplified/thailand-ADM3-subdistrict.geo.json\", drive=\"GeoJSON\")"
   ]
  }
 ],
 "metadata": {
  "kernelspec": {
   "display_name": "Python 3",
   "language": "python",
   "name": "python3"
  },
  "language_info": {
   "codemirror_mode": {
    "name": "ipython",
    "version": 2
   },
   "file_extension": ".py",
   "mimetype": "text/x-python",
   "name": "python",
   "nbconvert_exporter": "python",
   "pygments_lexer": "ipython2",
   "version": "2.7.6"
  }
 },
 "nbformat": 4,
 "nbformat_minor": 5
}
