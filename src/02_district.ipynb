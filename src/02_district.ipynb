{
 "cells": [
  {
   "cell_type": "code",
   "execution_count": null,
   "id": "initial_id",
   "metadata": {},
   "outputs": [],
   "source": [
    "import geopandas as gpd"
   ]
  },
  {
   "cell_type": "code",
   "execution_count": null,
   "id": "823e688251595202",
   "metadata": {},
   "outputs": [],
   "source": [
    "df = gpd.read_file(\"../data/input/tha_admbnda_adm2_rtsd_20220121.shp\")\n",
    "df"
   ]
  },
  {
   "cell_type": "code",
   "execution_count": null,
   "id": "72391433053fe2b1",
   "metadata": {},
   "outputs": [],
   "source": [
    "col_rename = {\n",
    "    \"ADM1_EN\": \"province_name_en\",\n",
    "    \"ADM1_TH\": \"province_name_th\",\n",
    "    \"ADM1_PCODE\": \"province_code\",\n",
    "    \"ADM2_EN\": \"district_name_en\",\n",
    "    \"ADM2_TH\": \"district_name_th\",\n",
    "    \"ADM2_PCODE\": \"district_code\",\n",
    "}\n",
    "\n",
    "df = df.rename(columns=col_rename)[list(col_rename.values()) + [\"geometry\"]]\n",
    "df"
   ]
  },
  {
   "cell_type": "code",
   "execution_count": null,
   "id": "38f0881f7633fe48",
   "metadata": {},
   "outputs": [],
   "source": [
    "!mkdir -p ../data/output\n",
    "df.to_parquet(\"../data/output/02_district.parquet\")"
   ]
  }
 ],
 "metadata": {
  "kernelspec": {
   "display_name": "Python 3",
   "language": "python",
   "name": "python3"
  },
  "language_info": {
   "codemirror_mode": {
    "name": "ipython",
    "version": 2
   },
   "file_extension": ".py",
   "mimetype": "text/x-python",
   "name": "python",
   "nbconvert_exporter": "python",
   "pygments_lexer": "ipython2",
   "version": "2.7.6"
  }
 },
 "nbformat": 4,
 "nbformat_minor": 5
}
